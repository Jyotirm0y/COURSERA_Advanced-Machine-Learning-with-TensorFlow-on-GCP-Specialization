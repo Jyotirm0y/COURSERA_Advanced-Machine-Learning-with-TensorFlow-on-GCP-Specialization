{
 "cells": [
  {
   "cell_type": "markdown",
   "metadata": {},
   "source": [
    "<h1>Using pre-trained embeddings with TensorFlow Hub</h1>\n",
    "\n",
    "This notebook illustrates:\n",
    "<ol>\n",
    "    <li>How to instantiate a TensorFlow Hub module</li>\n",
    "    <li>How to find pre-trained TensorFlow Hub modules for a variety of purposes</li>\n",
    "    <li>How to examine the embeddings of a Hub module</li>\n",
    "    <li>How one Hub module composes representations of sentences from individual words</li>\n",
    "    <li>How to assess word embeddings using a semantic similarity test</li>\n",
    "</ol>"
   ]
  },
  {
   "cell_type": "markdown",
   "metadata": {},
   "source": [
    "Install the TensorFlow Hub library"
   ]
  },
  {
   "cell_type": "code",
   "execution_count": 1,
   "metadata": {},
   "outputs": [],
   "source": [
    "!pip install -q tensorflow-hub\n",
    "!pip install -q --upgrade tensorflow"
   ]
  },
  {
   "cell_type": "markdown",
   "metadata": {},
   "source": [
    "Make sure to restart your notebook's kernel before proceeding further."
   ]
  },
  {
   "cell_type": "code",
   "execution_count": 2,
   "metadata": {},
   "outputs": [
    {
     "name": "stderr",
     "output_type": "stream",
     "text": [
      "/usr/local/envs/py3env/lib/python3.5/site-packages/h5py/__init__.py:36: FutureWarning: Conversion of the second argument of issubdtype from `float` to `np.floating` is deprecated. In future, it will be treated as `np.float64 == np.dtype(float).type`.\n",
      "  from ._conv import register_converters as _register_converters\n",
      "WARNING: Logging before flag parsing goes to stderr.\n",
      "W0409 21:31:34.307362 139817904727808 __init__.py:56] Some hub symbols are not available because TensorFlow version is less than 1.14\n"
     ]
    }
   ],
   "source": [
    "import tensorflow as tf\n",
    "import tensorflow_hub as hub\n",
    "import matplotlib.pyplot as plt\n",
    "import numpy as np\n",
    "import pandas as pd\n",
    "import os\n",
    "import re\n",
    "import seaborn as sns\n",
    "import scipy\n",
    "import math"
   ]
  },
  {
   "cell_type": "code",
   "execution_count": 3,
   "metadata": {},
   "outputs": [
    {
     "name": "stdout",
     "output_type": "stream",
     "text": [
      "1.13.1\n"
     ]
    }
   ],
   "source": [
    "import tensorflow as tf\n",
    "print(tf.__version__)"
   ]
  },
  {
   "cell_type": "markdown",
   "metadata": {},
   "source": [
    "<h2>TensorFlow Hub Concepts</h2>\n",
    "\n",
    "TensorFlow Hub is a library for the publication, discovery, and consumption of reusable parts of machine learning models. A module is a self-contained piece of a TensorFlow graph, along with its weights and assets, that can be reused across different tasks in a process known as transfer learning, which we covered as part of the course on Image Models.\n",
    "\n",
    "To download and use a module, it's as easy as:"
   ]
  },
  {
   "cell_type": "raw",
   "metadata": {},
   "source": [
    "import tensorflow as tf\n",
    "import tensorflow_hub as hub\n",
    "\n",
    "with tf.Graph().as_default():\n",
    "  module_url = \"path/to/hub/module\"\n",
    "  embed = hub.Module(module_url)\n",
    "  embeddings = embed([\"word1\", \"word2\", \"word3\"])\n",
    "  # ..."
   ]
  },
  {
   "cell_type": "markdown",
   "metadata": {},
   "source": [
    "However, because modules are self-contained parts of a TensorFlow graph, in order to actually collect values from a module, you'll need to evaluate it in the context of a session."
   ]
  },
  {
   "cell_type": "raw",
   "metadata": {},
   "source": [
    "  # .... earlier code\n",
    "  with tf.Session() as sess:\n",
    "    sess.run(tf.global_variables_initializer())\n",
    "    sess.run(tf.tables_initializer())\n",
    "    print(sess.run(embeddings))"
   ]
  },
  {
   "cell_type": "markdown",
   "metadata": {},
   "source": [
    "First, let's explore what hub modules there are. Go to [the documentation page](https://www.tensorflow.org/hub/modules) and explore a bit.\n",
    "\n",
    "Note that TensorFlow Hub has modules for Images, Text, and Other. In this case, we're interested in a Text module, so navigate to the Text section.\n",
    "\n",
    "Within the Text section, there are a number of modules. If you click on a link, you'll be taken to a page that describes the module and links to the original paper where the model was proposed. Click on a model in the Word2Vec section of the page.\n",
    "\n",
    "Note the details section, which describes what the module expects as input, how it preprocesses data, what it does when it encounters a word it hasn't seen before (OOV means \"out of vocabulary\") and in this case, how word embeddings can be composed to form sentence embeddings.\n",
    "\n",
    "Finally, note the URL of the page. This is the URL you can copy to instantiate your module."
   ]
  },
  {
   "cell_type": "markdown",
   "metadata": {},
   "source": [
    "<h2>Task 1: Create an embedding using the NNLM model</h2>\n",
    "\n",
    "To complete this task:\n",
    "<ol>\n",
    "    <li>Find the module URL for the NNLM 50 dimensional English model</li>\n",
    "    <li>Use it to instantiate a module as 'embed'</li>\n",
    "    <li>Print the embedded representation of \"cat\"</li>\n",
    "</ol>\n",
    "\n",
    "NOTE: downloading hub modules requires downloading a lot of data. Instantiating the module will take a few minutes."
   ]
  },
  {
   "cell_type": "code",
   "execution_count": 13,
   "metadata": {},
   "outputs": [
    {
     "name": "stdout",
     "output_type": "stream",
     "text": [
      "INFO:tensorflow:Saver not created because there are no variables in the graph to restore\n"
     ]
    },
    {
     "name": "stderr",
     "output_type": "stream",
     "text": [
      "I0409 21:55:02.081579 139817904727808 saver.py:1483] Saver not created because there are no variables in the graph to restore\n"
     ]
    },
    {
     "name": "stdout",
     "output_type": "stream",
     "text": [
      "[[ 0.11233182 -0.3176392  -0.01661182 -0.07224456  0.18654485 -0.13343827\n",
      "   0.14713244 -0.05857142 -0.1187038  -0.09351522  0.3228137  -0.07136346\n",
      "  -0.09905618  0.12076239 -0.13954093 -0.00105632  0.31129223  0.09696656\n",
      "   0.1131188  -0.2877357   0.02663439  0.11532657 -0.1753378  -0.11511131\n",
      "  -0.1570579   0.20969287 -0.15480006 -0.00777875  0.13566507  0.07828814\n",
      "   0.08037776 -0.00566911 -0.17601766  0.04775887  0.0203435  -0.11961495\n",
      "  -0.01772922 -0.02686167 -0.09766243  0.16661587  0.19552311 -0.06655143\n",
      "   0.07954271 -0.14783832 -0.00695672  0.22246888 -0.14037196 -0.12318342\n",
      "  -0.02290071  0.04016034]]\n"
     ]
    }
   ],
   "source": [
    "# Task 1\n",
    "embed = hub.Module(\"https://tfhub.dev/google/nnlm-en-dim50/1\")\n",
    "embeddings = embed([\"cat\"])\n",
    "\n",
    "with tf.Session() as sess:\n",
    "  sess.run(tf.global_variables_initializer())\n",
    "  sess.run(tf.tables_initializer())\n",
    "  print(sess.run(embeddings))"
   ]
  },
  {
   "cell_type": "markdown",
   "metadata": {},
   "source": [
    "When I completed this exercise, I got a vector that looked like:\n",
    "[[ 0.11233182 -0.3176392  -0.01661182...]]"
   ]
  },
  {
   "cell_type": "markdown",
   "metadata": {},
   "source": [
    "<h2>Task 2: Assess the Embeddings Informally</h2>\n",
    "\n",
    "<ol>\n",
    "    <li>Identify some words to test</li>\n",
    "    <li>Retrieve the embeddings for each word</li>\n",
    "    <li>Determine what method to use to compare each pair of embeddings</li>\n",
    "</ol>    \n",
    "\n",
    "So, now we have some vectors but the question is, are they any good? One way of testing whether they are any good is to try them for your task. But, first, let's just take a peak. \n",
    "\n",
    "For our test, we'll need three common words such that two of the words are much closer in meaning than the third."
   ]
  },
  {
   "cell_type": "code",
   "execution_count": 17,
   "metadata": {},
   "outputs": [],
   "source": [
    "word_1 = \"hair\"\n",
    "word_2 = \"moon\"\n",
    "word_3 = \"nail\""
   ]
  },
  {
   "cell_type": "markdown",
   "metadata": {},
   "source": [
    "Now, we'll use the same process of using our Hub module to generate embeddings but instead of printing the embeddings, capture them in a variable called 'my_embeddings'."
   ]
  },
  {
   "cell_type": "code",
   "execution_count": 18,
   "metadata": {},
   "outputs": [
    {
     "name": "stdout",
     "output_type": "stream",
     "text": [
      "Message: hair\n",
      "Embedding size: 50\n",
      "Embedding: [0.12665949761867523, -0.10744503885507584, -0.17915956676006317, ...]\n",
      "\n",
      "Message: moon\n",
      "Embedding size: 50\n",
      "Embedding: [-0.18291908502578735, -0.09842505306005478, -0.11214204877614975, ...]\n",
      "\n",
      "Message: nail\n",
      "Embedding size: 50\n",
      "Embedding: [0.13108408451080322, -0.0726504847407341, 0.10707146674394608, ...]\n",
      "\n"
     ]
    }
   ],
   "source": [
    "# Task 2b\n",
    "# Reduce logging output.\n",
    "embed = hub.Module(\"https://tfhub.dev/google/nnlm-en-dim50/1\")\n",
    "tf.logging.set_verbosity(tf.logging.ERROR)\n",
    "\n",
    "messages = [word_1, word_2, word_3]\n",
    "def create_embeddings(messages, embed):\n",
    "    my_embeddings = None\n",
    "    with tf.Session() as session:\n",
    "      session.run([tf.global_variables_initializer(), tf.tables_initializer()])\n",
    "      message_embeddings = session.run(embed(messages))\n",
    "      my_embeddings = np.array(message_embeddings)\n",
    "      for i, message_embedding in enumerate(np.array(my_embeddings).tolist()):\n",
    "        print(\"Message: {}\".format(messages[i]))\n",
    "        print(\"Embedding size: {}\".format(len(message_embedding)))\n",
    "        message_embedding_snippet = \", \".join(\n",
    "            (str(x) for x in message_embedding[:3]))\n",
    "        print(\"Embedding: [{}, ...]\\n\".format(message_embedding_snippet))\n",
    "    return my_embeddings\n",
    "  \n",
    "my_embeddings = create_embeddings(messages, embed)"
   ]
  },
  {
   "cell_type": "markdown",
   "metadata": {},
   "source": [
    "Now, we'll use Seaborn's heatmap function to see how the vectors compare to each other. I've written the shell of a function that you'll need to complete that will generate a heatmap. The one piece that's missing is how we'll compare each pair of vectors. Note that because we are computing a score for every pair of vectors, we should have len(my_embeddings)^2 scores. There are many valid ways of comparing vectors. Generality, similarity scores are symmetric. The simplest is to take their dot product. For extra credit, implement a more complicated vector comparison function."
   ]
  },
  {
   "cell_type": "code",
   "execution_count": 19,
   "metadata": {},
   "outputs": [
    {
     "name": "stderr",
     "output_type": "stream",
     "text": [
      "/usr/local/envs/py3env/lib/python3.5/site-packages/matplotlib/font_manager.py:1320: UserWarning: findfont: Font family ['sans-serif'] not found. Falling back to DejaVu Sans\n",
      "  (prop.get_family(), self.defaultFamily[fontext]))\n"
     ]
    },
    {
     "data": {
      "image/png": "[encoded data removed]",
      "text/plain": [
       "<matplotlib.figure.Figure at 0x7f299cfa4cc0>"
      ]
     },
     "metadata": {},
     "output_type": "display_data"
    }
   ],
   "source": [
    "def plot_similarity(labels, embeddings):\n",
    "  corr = np.inner(embeddings, embeddings)\n",
    "  sns.set(font_scale=1.2)\n",
    "  g = sns.heatmap(\n",
    "      corr,\n",
    "      xticklabels=labels,\n",
    "      yticklabels=labels,\n",
    "      vmin=0,\n",
    "      vmax=1,\n",
    "      cmap=\"YlOrRd\")\n",
    "  g.set_xticklabels(labels, rotation=90)\n",
    "  g.set_title(\"Semantic Textual Similarity\")\n",
    "\n",
    "plot_similarity([word_1, word_2, word_3], my_embeddings)"
   ]
  },
  {
   "cell_type": "markdown",
   "metadata": {},
   "source": [
    "What you should observe is that, trivially, all words are identical to themselves, and, more interestingly, that the two more similar words have more similar embeddings than the third word."
   ]
  },
  {
   "cell_type": "markdown",
   "metadata": {},
   "source": [
    "<h2>Task 3: From Words to Sentences</h2>\n",
    "\n",
    "Up until now, we've used our module to produce representations of words. But, in fact, if we want to, we can also use it to construct representations of sentences. The methods used by the module to compose a representation of a sentence won't be as nuanced as what an RNN might do, but they are still worth examining because they are so convenient.\n",
    "\n",
    "<ol>\n",
    "    <li> Examine the documentation for our hub module and determine how to ask it to construct a representation of a sentence</li>\n",
    "    <li> Figure out how the module takes word embeddings and uses them to construct sentence embeddings </li>\n",
    "    <li> Construct a embeddings of a \"cat\", \"The cat sat on the mat\", \"dog\" and \"The cat sat on the dog\"  and plot their similarity\n",
    "</ol>"
   ]
  },
  {
   "cell_type": "code",
   "execution_count": 21,
   "metadata": {},
   "outputs": [
    {
     "name": "stdout",
     "output_type": "stream",
     "text": [
      "Message: cat\n",
      "Embedding size: 50\n",
      "Embedding: [0.1123318150639534, -0.31763920187950134, -0.016611823812127113, ...]\n",
      "\n",
      "Message: The cat sat on the mat\n",
      "Embedding size: 50\n",
      "Embedding: [0.25838735699653625, 0.03262478858232498, 0.19812637567520142, ...]\n",
      "\n",
      "Message: dog\n",
      "Embedding size: 50\n",
      "Embedding: [0.23500140011310577, -0.24834826588630676, -0.08318911492824554, ...]\n",
      "\n",
      "Message: The cat sat on the dog\n",
      "Embedding size: 50\n",
      "Embedding: [0.2746334373950958, -0.024848347529768944, 0.17018628120422363, ...]\n",
      "\n"
     ]
    },
    {
     "name": "stderr",
     "output_type": "stream",
     "text": [
      "/usr/local/envs/py3env/lib/python3.5/site-packages/matplotlib/font_manager.py:1320: UserWarning: findfont: Font family ['sans-serif'] not found. Falling back to DejaVu Sans\n",
      "  (prop.get_family(), self.defaultFamily[fontext]))\n"
     ]
    },
    {
     "data": {
      "image/png": "[encoded data removed]",
      "text/plain": [
       "<matplotlib.figure.Figure at 0x7f299ce7f080>"
      ]
     },
     "metadata": {},
     "output_type": "display_data"
    }
   ],
   "source": [
    "# Task 3\n",
    "word_1 = \"cat\"\n",
    "word_2 = \"The cat sat on the mat\"\n",
    "word_3 = \"dog\"\n",
    "word_4 = \"The cat sat on the dog\"\n",
    "messages = [word_1, word_2, word_3, word_4] \n",
    "my_embeddings = create_embeddings(messages, embed)\n",
    "plot_similarity(messages, my_embeddings)"
   ]
  },
  {
   "cell_type": "markdown",
   "metadata": {},
   "source": [
    "Which is cat more similar to, \"The cat sat on the mat\" or \"dog\"? Is this desireable?\n",
    "\n",
    "Think back to how an RNN scans a sequence and maintains its state. Naive methods of embedding composition (mapping many to one) can't possibly compete with a network trained for this very purpose!"
   ]
  },
  {
   "cell_type": "markdown",
   "metadata": {},
   "source": [
    "<h2>Task 4: Assessing the Embeddings Formally</h2>\n",
    "Of course, it's great to know that our embeddings match our intuitions to an extent, but it'd be better to have a formal, data-driven measure of the quality of the representation.\n",
    "\n",
    "Researchers have\n",
    "The [STS Benchmark](http://ixa2.si.ehu.es/stswiki/index.php/STSbenchmark) provides an intristic evaluation of the degree to which similarity scores computed using sentence embeddings align with human judgements. The benchmark requires systems to return similarity scores for a diverse selection of sentence pairs. Pearson correlation is then used to evaluate the quality of the machine similarity scores against human judgements."
   ]
  },
  {
   "cell_type": "code",
   "execution_count": 22,
   "metadata": {},
   "outputs": [
    {
     "name": "stdout",
     "output_type": "stream",
     "text": [
      "Downloading data from http://ixa2.si.ehu.es/stswiki/images/4/48/Stsbenchmark.tar.gz\n",
      "417792/409630 [==============================] - 2s 4us/step\n"
     ]
    }
   ],
   "source": [
    "def load_sts_dataset(filename):\n",
    "  # Loads a subset of the STS dataset into a DataFrame. In particular both\n",
    "  # sentences and their human rated similarity score.\n",
    "  sent_pairs = []\n",
    "  with tf.gfile.GFile(filename, \"r\") as f:\n",
    "    for line in f:\n",
    "      ts = line.strip().split(\"\\t\")\n",
    "      # (sent_1, sent_2, similarity_score)\n",
    "      sent_pairs.append((ts[5], ts[6], float(ts[4])))\n",
    "  return pd.DataFrame(sent_pairs, columns=[\"sent_1\", \"sent_2\", \"sim\"])\n",
    "\n",
    "\n",
    "def download_and_load_sts_data():\n",
    "  sts_dataset = tf.keras.utils.get_file(\n",
    "      fname=\"Stsbenchmark.tar.gz\",\n",
    "      origin=\"http://ixa2.si.ehu.es/stswiki/images/4/48/Stsbenchmark.tar.gz\",\n",
    "      extract=True)\n",
    "\n",
    "  sts_dev = load_sts_dataset(\n",
    "      os.path.join(os.path.dirname(sts_dataset), \"stsbenchmark\", \"sts-dev.csv\"))\n",
    "  sts_test = load_sts_dataset(\n",
    "      os.path.join(\n",
    "          os.path.dirname(sts_dataset), \"stsbenchmark\", \"sts-test.csv\"))\n",
    "\n",
    "  return sts_dev, sts_test\n",
    "\n",
    "\n",
    "sts_dev, sts_test = download_and_load_sts_data()"
   ]
  },
  {
   "cell_type": "code",
   "execution_count": 23,
   "metadata": {},
   "outputs": [
    {
     "data": {
      "text/html": [
       "<div>\n",
       "<style scoped>\n",
       "    .dataframe tbody tr th:only-of-type {\n",
       "        vertical-align: middle;\n",
       "    }\n",
       "\n",
       "    .dataframe tbody tr th {\n",
       "        vertical-align: top;\n",
       "    }\n",
       "\n",
       "    .dataframe thead th {\n",
       "        text-align: right;\n",
       "    }\n",
       "</style>\n",
       "<table border=\"1\" class=\"dataframe\">\n",
       "  <thead>\n",
       "    <tr style=\"text-align: right;\">\n",
       "      <th></th>\n",
       "      <th>sent_1</th>\n",
       "      <th>sent_2</th>\n",
       "      <th>sim</th>\n",
       "    </tr>\n",
       "  </thead>\n",
       "  <tbody>\n",
       "    <tr>\n",
       "      <th>0</th>\n",
       "      <td>A man with a hard hat is dancing.</td>\n",
       "      <td>A man wearing a hard hat is dancing.</td>\n",
       "      <td>5.00</td>\n",
       "    </tr>\n",
       "    <tr>\n",
       "      <th>1</th>\n",
       "      <td>A young child is riding a horse.</td>\n",
       "      <td>A child is riding a horse.</td>\n",
       "      <td>4.75</td>\n",
       "    </tr>\n",
       "    <tr>\n",
       "      <th>2</th>\n",
       "      <td>A man is feeding a mouse to a snake.</td>\n",
       "      <td>The man is feeding a mouse to the snake.</td>\n",
       "      <td>5.00</td>\n",
       "    </tr>\n",
       "    <tr>\n",
       "      <th>3</th>\n",
       "      <td>A woman is playing the guitar.</td>\n",
       "      <td>A man is playing guitar.</td>\n",
       "      <td>2.40</td>\n",
       "    </tr>\n",
       "    <tr>\n",
       "      <th>4</th>\n",
       "      <td>A woman is playing the flute.</td>\n",
       "      <td>A man is playing a flute.</td>\n",
       "      <td>2.75</td>\n",
       "    </tr>\n",
       "  </tbody>\n",
       "</table>\n",
       "</div>"
      ],
      "text/plain": [
       "                                 sent_1  \\\n",
       "0     A man with a hard hat is dancing.   \n",
       "1      A young child is riding a horse.   \n",
       "2  A man is feeding a mouse to a snake.   \n",
       "3        A woman is playing the guitar.   \n",
       "4         A woman is playing the flute.   \n",
       "\n",
       "                                     sent_2   sim  \n",
       "0      A man wearing a hard hat is dancing.  5.00  \n",
       "1                A child is riding a horse.  4.75  \n",
       "2  The man is feeding a mouse to the snake.  5.00  \n",
       "3                  A man is playing guitar.  2.40  \n",
       "4                 A man is playing a flute.  2.75  "
      ]
     },
     "execution_count": 23,
     "metadata": {},
     "output_type": "execute_result"
    }
   ],
   "source": [
    "sts_dev.head()"
   ]
  },
  {
   "cell_type": "markdown",
   "metadata": {},
   "source": [
    "<h3>Build the Evaluation Graph</h3>\n",
    "\n",
    "Next, we need to build the evaluation graph."
   ]
  },
  {
   "cell_type": "code",
   "execution_count": 24,
   "metadata": {},
   "outputs": [],
   "source": [
    "sts_input1 = tf.placeholder(tf.string, shape=(None))\n",
    "sts_input2 = tf.placeholder(tf.string, shape=(None))\n",
    "\n",
    "# For evaluation we use exactly normalized rather than\n",
    "# approximately normalized.\n",
    "sts_encode1 = tf.nn.l2_normalize(embed(sts_input1), axis=1)\n",
    "sts_encode2 = tf.nn.l2_normalize(embed(sts_input2), axis=1)\n",
    "cosine_similarities = tf.reduce_sum(tf.multiply(sts_encode1, sts_encode2), axis=1)\n",
    "clip_cosine_similarities = tf.clip_by_value(cosine_similarities, -1.0, 1.0)\n",
    "sim_scores = 1.0 - tf.acos(clip_cosine_similarities)"
   ]
  },
  {
   "cell_type": "markdown",
   "metadata": {},
   "source": [
    "<h3>Evaluate Sentence Embeddings</h3>\n",
    "\n",
    "Finally, we need to create a session and run our evaluation."
   ]
  },
  {
   "cell_type": "code",
   "execution_count": 25,
   "metadata": {},
   "outputs": [],
   "source": [
    "sts_data = sts_dev #@param [\"sts_dev\", \"sts_test\"] {type:\"raw\"}"
   ]
  },
  {
   "cell_type": "code",
   "execution_count": 26,
   "metadata": {},
   "outputs": [
    {
     "name": "stdout",
     "output_type": "stream",
     "text": [
      "Pearson correlation coefficient = 0.5184415561190069\n",
      "p-value = 5.886987186745979e-104\n"
     ]
    }
   ],
   "source": [
    "text_a = sts_data['sent_1'].tolist()\n",
    "text_b = sts_data['sent_2'].tolist()\n",
    "dev_scores = sts_data['sim'].tolist()\n",
    "\n",
    "def run_sts_benchmark(session):\n",
    "  \"\"\"Returns the similarity scores\"\"\"\n",
    "  emba, embb, scores = session.run(\n",
    "      [sts_encode1, sts_encode2, sim_scores],\n",
    "      feed_dict={\n",
    "          sts_input1: text_a,\n",
    "          sts_input2: text_b\n",
    "      })\n",
    "  return scores\n",
    "\n",
    "\n",
    "with tf.Session() as session:\n",
    "  session.run(tf.global_variables_initializer())\n",
    "  session.run(tf.tables_initializer())\n",
    "  scores = run_sts_benchmark(session)\n",
    "\n",
    "pearson_correlation = scipy.stats.pearsonr(scores, dev_scores)\n",
    "print('Pearson correlation coefficient = {0}\\np-value = {1}'.format(\n",
    "    pearson_correlation[0], pearson_correlation[1]))"
   ]
  },
  {
   "cell_type": "markdown",
   "metadata": {},
   "source": [
    "<h3>Extra Credit</h3>\n",
    "\n",
    "For extra credit, re-run this analysis with a different Hub module. Are the results different? If so, how?"
   ]
  },
  {
   "cell_type": "markdown",
   "metadata": {},
   "source": [
    "<h2>Further Reading</h2>\n",
    "\n",
    "We published a [blog post](https://developers.googleblog.com/2018/04/text-embedding-models-contain-bias.html) on how bias can affect text embeddings. It's worth a read!"
   ]
  }
 ],
 "metadata": {
  "kernelspec": {
   "display_name": "Python 3",
   "language": "python",
   "name": "python3"
  },
  "language_info": {
   "codemirror_mode": {
    "name": "ipython",
    "version": 3
   },
   "file_extension": ".py",
   "mimetype": "text/x-python",
   "name": "python",
   "nbconvert_exporter": "python",
   "pygments_lexer": "ipython3",
   "version": "3.5.6"
  }
 },
 "nbformat": 4,
 "nbformat_minor": 2
}
