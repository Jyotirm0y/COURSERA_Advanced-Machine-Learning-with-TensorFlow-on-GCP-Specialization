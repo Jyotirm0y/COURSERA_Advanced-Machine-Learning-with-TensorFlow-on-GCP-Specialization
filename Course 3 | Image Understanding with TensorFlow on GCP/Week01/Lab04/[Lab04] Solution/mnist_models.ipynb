{
 "cells": [
  {
   "cell_type": "markdown",
   "metadata": {},
   "source": [
    "# MNIST Image Classification with TensorFlow on Cloud ML Engine\n",
    "\n",
    "This notebook demonstrates how to implement different image models on MNIST using Estimator. \n",
    "\n",
    "Note the MODEL_TYPE; change it to try out different models"
   ]
  },
  {
   "cell_type": "code",
   "execution_count": 16,
   "metadata": {},
   "outputs": [],
   "source": [
    "import os\n",
    "PROJECT = 'qwiklabs-gcp-dece234407633bca' # REPLACE WITH YOUR PROJECT ID\n",
    "BUCKET = 'qwiklabs-gcp-dece234407633bca' # REPLACE WITH YOUR BUCKET NAME\n",
    "REGION = 'us-central1' # REPLACE WITH YOUR BUCKET REGION e.g. us-central1\n",
    "MODEL_TYPE='cnn'  # 'linear', 'dnn', 'dnn_dropout', or 'cnn'\n",
    "\n",
    "# do not change these\n",
    "os.environ['PROJECT'] = PROJECT\n",
    "os.environ['BUCKET'] = BUCKET\n",
    "os.environ['REGION'] = REGION\n",
    "os.environ['MODEL_TYPE'] = MODEL_TYPE\n",
    "os.environ['TFVERSION'] = '1.8'  # Tensorflow version"
   ]
  },
  {
   "cell_type": "code",
   "execution_count": 17,
   "metadata": {},
   "outputs": [
    {
     "name": "stderr",
     "output_type": "stream",
     "text": [
      "Updated property [core/project].\n",
      "Updated property [compute/region].\n"
     ]
    }
   ],
   "source": [
    "%%bash\n",
    "gcloud config set project $PROJECT\n",
    "gcloud config set compute/region $REGION"
   ]
  },
  {
   "cell_type": "markdown",
   "metadata": {},
   "source": [
    "## Run as a Python module\n",
    "\n",
    "In the previous notebook (mnist_linear.ipynb) we ran our code directly from the notebook.\n",
    "\n",
    "Now since we want to run our code on Cloud ML Engine, we've packaged it as a python module.\n",
    "\n",
    "The `model.py` and `task.py` containing the model code is in <a href=\"mnistmodel/trainer\">mnistmodel/trainer</a>\n",
    "\n",
    "**Complete the TODOs in `model.py` before proceeding!**\n",
    "\n",
    "Once you've completed the TODOs, set MODEL_TYPE and run it locally for a few steps to test the code."
   ]
  },
  {
   "cell_type": "code",
   "execution_count": 18,
   "metadata": {},
   "outputs": [
    {
     "name": "stdout",
     "output_type": "stream",
     "text": [
      "Extracting mnist/data/train-images-idx3-ubyte.gz\n",
      "Extracting mnist/data/train-labels-idx1-ubyte.gz\n",
      "Extracting mnist/data/t10k-images-idx3-ubyte.gz\n",
      "Extracting mnist/data/t10k-labels-idx1-ubyte.gz\n",
      "outlen:  980\n",
      "outlen:  980\n",
      "outlen:  980\n"
     ]
    },
    {
     "name": "stderr",
     "output_type": "stream",
     "text": [
      "/usr/local/envs/py3env/lib/python3.5/site-packages/h5py/__init__.py:36: FutureWarning: Conversion of the second argument of issubdtype from `float` to `np.floating` is deprecated. In future, it will be treated as `np.float64 == np.dtype(float).type`.\n",
      "  from ._conv import register_converters as _register_converters\n",
      "WARNING:tensorflow:From /content/datalab/notebooks/training-data-analyst/courses/machine_learning/deepdive/08_image/labs/mnistmodel/trainer/model.py:127: read_data_sets (from tensorflow.contrib.learn.python.learn.datasets.mnist) is deprecated and will be removed in a future version.\n",
      "Instructions for updating:\n",
      "Please use alternatives such as official/mnist/dataset.py from tensorflow/models.\n",
      "WARNING:tensorflow:From /usr/local/envs/py3env/lib/python3.5/site-packages/tensorflow/contrib/learn/python/learn/datasets/mnist.py:260: maybe_download (from tensorflow.contrib.learn.python.learn.datasets.base) is deprecated and will be removed in a future version.\n",
      "Instructions for updating:\n",
      "Please write your own downloading logic.\n",
      "WARNING:tensorflow:From /usr/local/envs/py3env/lib/python3.5/site-packages/tensorflow/contrib/learn/python/learn/datasets/mnist.py:262: extract_images (from tensorflow.contrib.learn.python.learn.datasets.mnist) is deprecated and will be removed in a future version.\n",
      "Instructions for updating:\n",
      "Please use tf.data to implement this functionality.\n",
      "WARNING:tensorflow:From /usr/local/envs/py3env/lib/python3.5/site-packages/tensorflow/contrib/learn/python/learn/datasets/mnist.py:267: extract_labels (from tensorflow.contrib.learn.python.learn.datasets.mnist) is deprecated and will be removed in a future version.\n",
      "Instructions for updating:\n",
      "Please use tf.data to implement this functionality.\n",
      "WARNING:tensorflow:From /usr/local/envs/py3env/lib/python3.5/site-packages/tensorflow/contrib/learn/python/learn/datasets/mnist.py:110: dense_to_one_hot (from tensorflow.contrib.learn.python.learn.datasets.mnist) is deprecated and will be removed in a future version.\n",
      "Instructions for updating:\n",
      "Please use tf.one_hot on tensors.\n",
      "WARNING:tensorflow:From /usr/local/envs/py3env/lib/python3.5/site-packages/tensorflow/contrib/learn/python/learn/datasets/mnist.py:290: DataSet.__init__ (from tensorflow.contrib.learn.python.learn.datasets.mnist) is deprecated and will be removed in a future version.\n",
      "Instructions for updating:\n",
      "Please use alternatives such as official/mnist/dataset.py from tensorflow/models.\n",
      "INFO:tensorflow:TF_CONFIG environment variable: {'task': {}, 'job': {'args': ['--output_dir=/content/datalab/notebooks/training-data-analyst/courses/machine_learning/deepdive/08_image/labs/mnist_trained', '--train_steps=100', '--learning_rate=0.01', '--model=cnn'], 'job_name': 'trainer.task'}, 'cluster': {}, 'environment': 'cloud'}\n",
      "INFO:tensorflow:Using config: {'_cluster_spec': <tensorflow.python.training.server_lib.ClusterSpec object at 0x7f3f5a4c48d0>, '_save_checkpoints_steps': None, '_is_chief': True, '_evaluation_master': '', '_save_summary_steps': 100, '_task_id': 0, '_task_type': 'worker', '_keep_checkpoint_every_n_hours': 10000, '_session_config': None, '_tf_random_seed': None, '_train_distribute': None, '_log_step_count_steps': 100, '_save_checkpoints_secs': 60, '_master': '', '_num_worker_replicas': 1, '_global_id_in_cluster': 0, '_model_dir': '/content/datalab/notebooks/training-data-analyst/courses/machine_learning/deepdive/08_image/labs/mnist_trained/', '_num_ps_replicas': 0, '_service': None, '_keep_checkpoint_max': 5}\n",
      "INFO:tensorflow:Running training and evaluation locally (non-distributed).\n",
      "INFO:tensorflow:Start train and evaluate loop. The evaluate will happen after 60 secs (eval_spec.throttle_secs) or training is finished.\n",
      "INFO:tensorflow:Calling model_fn.\n",
      "INFO:tensorflow:Done calling model_fn.\n",
      "INFO:tensorflow:Create CheckpointSaverHook.\n",
      "INFO:tensorflow:Graph was finalized.\n",
      "INFO:tensorflow:Running local_init_op.\n",
      "INFO:tensorflow:Done running local_init_op.\n",
      "INFO:tensorflow:Saving checkpoints for 1 into /content/datalab/notebooks/training-data-analyst/courses/machine_learning/deepdive/08_image/labs/mnist_trained/model.ckpt.\n",
      "INFO:tensorflow:step = 1, loss = 2.333603\n",
      "INFO:tensorflow:Saving checkpoints for 100 into /content/datalab/notebooks/training-data-analyst/courses/machine_learning/deepdive/08_image/labs/mnist_trained/model.ckpt.\n",
      "INFO:tensorflow:Loss for final step: 0.060163938.\n",
      "INFO:tensorflow:Calling model_fn.\n",
      "INFO:tensorflow:Done calling model_fn.\n",
      "INFO:tensorflow:Starting evaluation at 2019-04-03-23:09:40\n",
      "INFO:tensorflow:Graph was finalized.\n",
      "INFO:tensorflow:Restoring parameters from /content/datalab/notebooks/training-data-analyst/courses/machine_learning/deepdive/08_image/labs/mnist_trained/model.ckpt-100\n",
      "INFO:tensorflow:Running local_init_op.\n",
      "INFO:tensorflow:Done running local_init_op.\n",
      "INFO:tensorflow:Finished evaluation at 2019-04-03-23:09:49\n",
      "INFO:tensorflow:Saving dict for global step 100: accuracy = 0.966, global_step = 100, loss = 0.112015754\n",
      "INFO:tensorflow:Calling model_fn.\n",
      "INFO:tensorflow:Done calling model_fn.\n",
      "INFO:tensorflow:Signatures INCLUDED in export for Regress: None\n",
      "INFO:tensorflow:Signatures INCLUDED in export for Classify: None\n",
      "INFO:tensorflow:Signatures INCLUDED in export for Predict: ['classes', 'serving_default']\n",
      "INFO:tensorflow:Restoring parameters from /content/datalab/notebooks/training-data-analyst/courses/machine_learning/deepdive/08_image/labs/mnist_trained/model.ckpt-100\n",
      "INFO:tensorflow:Assets added to graph.\n",
      "INFO:tensorflow:No assets to write.\n",
      "INFO:tensorflow:SavedModel written to: b\"/content/datalab/notebooks/training-data-analyst/courses/machine_learning/deepdive/08_image/labs/mnist_trained/export/exporter/temp-b'1554332989'/saved_model.pb\"\n"
     ]
    }
   ],
   "source": [
    "%%bash\n",
    "rm -rf mnistmodel.tar.gz mnist_trained\n",
    "gcloud ml-engine local train \\\n",
    "   --module-name=trainer.task \\\n",
    "   --package-path=${PWD}/mnistmodel/trainer \\\n",
    "   -- \\\n",
    "   --output_dir=${PWD}/mnist_trained \\\n",
    "   --train_steps=100 \\\n",
    "   --learning_rate=0.01 \\\n",
    "   --model=$MODEL_TYPE"
   ]
  },
  {
   "cell_type": "markdown",
   "metadata": {},
   "source": [
    "**Now, let's do it on Cloud ML Engine so we can train on GPU:** `--scale-tier=BASIC_GPU`\n",
    "\n",
    "Note the GPU speed up depends on the model type. You'll notice the more complex CNN model trains significantly faster on GPU, however the speed up on the simpler models is not as pronounced."
   ]
  },
  {
   "cell_type": "code",
   "execution_count": 19,
   "metadata": {},
   "outputs": [
    {
     "name": "stdout",
     "output_type": "stream",
     "text": [
      "gs://qwiklabs-gcp-dece234407633bca/mnist/trained_cnn us-central1 mnist_cnn_190403_230950\n",
      "jobId: mnist_cnn_190403_230950\n",
      "state: QUEUED\n"
     ]
    },
    {
     "name": "stderr",
     "output_type": "stream",
     "text": [
      "Removing gs://qwiklabs-gcp-dece234407633bca/mnist/trained_cnn/#1554332389603651...\n",
      "Removing gs://qwiklabs-gcp-dece234407633bca/mnist/trained_cnn/checkpoint#1554332390805382...\n",
      "Removing gs://qwiklabs-gcp-dece234407633bca/mnist/trained_cnn/eval/#1554332299476034...\n",
      "Removing gs://qwiklabs-gcp-dece234407633bca/mnist/trained_cnn/eval/events.out.tfevents.1554332299.cmle-training-5911598753413993212#1554332393107787...\n",
      "Removing gs://qwiklabs-gcp-dece234407633bca/mnist/trained_cnn/events.out.tfevents.1554332280.cmle-training-5911598753413993212#1554332398431453...\n",
      "Removing gs://qwiklabs-gcp-dece234407633bca/mnist/trained_cnn/export/#1554332301294940...\n",
      "/ [1/27 objects]   3% Done                                                      \r",
      "/ [2/27 objects]   7% Done                                                      \r",
      "Removing gs://qwiklabs-gcp-dece234407633bca/mnist/trained_cnn/export/exporter/#1554332301465731...\n",
      "/ [3/27 objects]  11% Done                                                      \r",
      "Removing gs://qwiklabs-gcp-dece234407633bca/mnist/trained_cnn/export/exporter/1554332300/#1554332305384160...\n",
      "/ [4/27 objects]  14% Done                                                      \r",
      "Removing gs://qwiklabs-gcp-dece234407633bca/mnist/trained_cnn/export/exporter/1554332300/saved_model.pb#1554332305533684...\n",
      "Removing gs://qwiklabs-gcp-dece234407633bca/mnist/trained_cnn/export/exporter/1554332300/variables/#1554332305683669...\n",
      "/ [5/27 objects]  18% Done                                                      \r",
      "/ [6/27 objects]  22% Done                                                      \r",
      "/ [7/27 objects]  25% Done                                                      \r",
      "Removing gs://qwiklabs-gcp-dece234407633bca/mnist/trained_cnn/export/exporter/1554332300/variables/variables.index#1554332305990475...\n",
      "Removing gs://qwiklabs-gcp-dece234407633bca/mnist/trained_cnn/export/exporter/1554332300/variables/variables.data-00000-of-00001#1554332305834638...\n",
      "/ [8/27 objects]  29% Done                                                      \r",
      "/ [9/27 objects]  33% Done                                                      \r",
      "Removing gs://qwiklabs-gcp-dece234407633bca/mnist/trained_cnn/export/exporter/1554332393/#1554332397459965...\n",
      "Removing gs://qwiklabs-gcp-dece234407633bca/mnist/trained_cnn/export/exporter/1554332393/saved_model.pb#1554332397598906...\n",
      "Removing gs://qwiklabs-gcp-dece234407633bca/mnist/trained_cnn/export/exporter/1554332393/variables/#1554332397753084...\n",
      "/ [10/27 objects]  37% Done                                                     \r",
      "Removing gs://qwiklabs-gcp-dece234407633bca/mnist/trained_cnn/export/exporter/1554332393/variables/variables.data-00000-of-00001#1554332397910033...\n",
      "/ [11/27 objects]  40% Done                                                     \r",
      "/ [12/27 objects]  44% Done                                                     \r",
      "/ [13/27 objects]  48% Done                                                     \r",
      "/ [14/27 objects]  51% Done                                                     \r",
      "Removing gs://qwiklabs-gcp-dece234407633bca/mnist/trained_cnn/export/exporter/1554332393/variables/variables.index#1554332398051575...\n",
      "Removing gs://qwiklabs-gcp-dece234407633bca/mnist/trained_cnn/graph.pbtxt#1554332282762936...\n",
      "Removing gs://qwiklabs-gcp-dece234407633bca/mnist/trained_cnn/model.ckpt-1.data-00000-of-00001#1554332295828114...\n",
      "Removing gs://qwiklabs-gcp-dece234407633bca/mnist/trained_cnn/model.ckpt-1.index#1554332296050365...\n",
      "/ [15/27 objects]  55% Done                                                     \r",
      "Removing gs://qwiklabs-gcp-dece234407633bca/mnist/trained_cnn/model.ckpt-1.meta#1554332297241134...\n",
      "/ [16/27 objects]  59% Done                                                     \r",
      "/ [17/27 objects]  62% Done                                                     \r",
      "Removing gs://qwiklabs-gcp-dece234407633bca/mnist/trained_cnn/model.ckpt-10000.data-00000-of-00001#1554332389977074...\n",
      "/ [18/27 objects]  66% Done                                                     \r",
      "/ [19/27 objects]  70% Done                                                     \r",
      "Removing gs://qwiklabs-gcp-dece234407633bca/mnist/trained_cnn/model.ckpt-10000.index#1554332390224665...\n",
      "Removing gs://qwiklabs-gcp-dece234407633bca/mnist/trained_cnn/model.ckpt-10000.meta#1554332391372375...\n",
      "/ [20/27 objects]  74% Done                                                     \r",
      "Removing gs://qwiklabs-gcp-dece234407633bca/mnist/trained_cnn/model.ckpt-5952.data-00000-of-00001#1554332355015268...\n",
      "Removing gs://qwiklabs-gcp-dece234407633bca/mnist/trained_cnn/model.ckpt-5952.index#1554332355269932...\n",
      "/ [21/27 objects]  77% Done                                                     \r",
      "/ [22/27 objects]  81% Done                                                     \r",
      "Removing gs://qwiklabs-gcp-dece234407633bca/mnist/trained_cnn/model.ckpt-5952.meta#1554332356430958...\n",
      "/ [23/27 objects]  85% Done                                                     \r",
      "/ [24/27 objects]  88% Done                                                     \r",
      "/ [25/27 objects]  92% Done                                                     \r",
      "/ [26/27 objects]  96% Done                                                     \r",
      "/ [27/27 objects] 100% Done                                                     \r\n",
      "Operation completed over 27 objects.                                             \n",
      "Job [mnist_cnn_190403_230950] submitted successfully.\n",
      "Your job is still active. You may view the status of your job with the command\n",
      "\n",
      "  $ gcloud ml-engine jobs describe mnist_cnn_190403_230950\n",
      "\n",
      "or continue streaming the logs with the command\n",
      "\n",
      "  $ gcloud ml-engine jobs stream-logs mnist_cnn_190403_230950\n"
     ]
    }
   ],
   "source": [
    "%%bash\n",
    "OUTDIR=gs://${BUCKET}/mnist/trained_${MODEL_TYPE}\n",
    "JOBNAME=mnist_${MODEL_TYPE}_$(date -u +%y%m%d_%H%M%S)\n",
    "echo $OUTDIR $REGION $JOBNAME\n",
    "gsutil -m rm -rf $OUTDIR\n",
    "gcloud ml-engine jobs submit training $JOBNAME \\\n",
    "   --region=$REGION \\\n",
    "   --module-name=trainer.task \\\n",
    "   --package-path=${PWD}/mnistmodel/trainer \\\n",
    "   --job-dir=$OUTDIR \\\n",
    "   --staging-bucket=gs://$BUCKET \\\n",
    "   --scale-tier=BASIC_GPU \\\n",
    "   --runtime-version=$TFVERSION \\\n",
    "   -- \\\n",
    "   --output_dir=$OUTDIR \\\n",
    "   --train_steps=10000 --learning_rate=0.01 --train_batch_size=512 \\\n",
    "   --model=$MODEL_TYPE --batch_norm"
   ]
  },
  {
   "cell_type": "markdown",
   "metadata": {},
   "source": [
    "## Monitoring training with TensorBoard\n",
    "\n",
    "Use this cell to launch tensorboard"
   ]
  },
  {
   "cell_type": "code",
   "execution_count": 20,
   "metadata": {},
   "outputs": [
    {
     "data": {
      "text/html": [
       "<p>TensorBoard was started successfully with pid 5047. Click <a href=\"/_proxy/54641/\" target=\"_blank\">here</a> to access it.</p>"
      ]
     },
     "metadata": {},
     "output_type": "display_data"
    },
    {
     "data": {
      "text/plain": [
       "5047"
      ]
     },
     "execution_count": 20,
     "metadata": {},
     "output_type": "execute_result"
    }
   ],
   "source": [
    "from google.datalab.ml import TensorBoard\n",
    "TensorBoard().start('gs://{}/mnist/trained_{}'.format(BUCKET, MODEL_TYPE))"
   ]
  },
  {
   "cell_type": "code",
   "execution_count": 21,
   "metadata": {},
   "outputs": [
    {
     "name": "stdout",
     "output_type": "stream",
     "text": [
      "Stopped TensorBoard with pid 5047\n"
     ]
    }
   ],
   "source": [
    "for pid in TensorBoard.list()['pid']:\n",
    "  TensorBoard().stop(pid)\n",
    "  print('Stopped TensorBoard with pid {}'.format(pid))"
   ]
  },
  {
   "cell_type": "markdown",
   "metadata": {},
   "source": [
    "Here are my results:\n",
    "\n",
    "Model | Accuracy | Time taken | Model description | Run time parameters\n",
    "--- | :---: | ---\n",
    "linear | 91.53 | 3 min | linear | 100 steps, LR=0.01, Batch=512\n",
    "linear | 92.73 | 8 min | linear | 1000 steps, LR=0.01, Batch=512\n",
    "linear | 92.29 | 18 min | linear | 10000 steps, LR=0.01, Batch=512\n",
    "dnn | 98.14 | 15 min | 300-100-30 nodes fully connected | 10000 steps, LR=0.01, Batch=512\n",
    "dnn | 97.99 | 48 min | 300-100-30 nodes fully connected | 100000 steps, LR=0.01, Batch=512\n",
    "dnn_dropout | 97.84 | 29 min | 300-100-30-DL(0.1)- nodes | 20000 steps, LR=0.01, Batch=512\n",
    "cnn | 98.97 | 35 min | maxpool(10 5x5 cnn, 2)-maxpool(20 5x5 cnn, 2)-300-DL(0.25) | 20000 steps, LR=0.01, Batch=512\n",
    "cnn | 98.93 | 35 min | maxpool(10 11x11 cnn, 2)-maxpool(20 3x3 cnn, 2)-300-DL(0.25) | 20000 steps, LR=0.01, Batch=512\n",
    "cnn | 99.17 | 35 min | maxpool(10 11x11 cnn, 2)-maxpool(20 3x3 cnn, 2)-300-DL(0.25), batch_norm (logits only) | 20000 steps, LR=0.01, Batch=512\n",
    "cnn | 99.27 | 35 min | maxpool(10 11x11 cnn, 2)-maxpool(20 3x3 cnn, 2)-300-DL(0.25), batch_norm (logits, deep) | 10000 steps, LR=0.01, Batch=512\n",
    "cnn | 99.48 | 12 hr | as-above but nfil1=20, nfil2=27, dprob=0.1, lr=0.001, batchsize=233 | (hyperparameter optimization)\n",
    "\n",
    "Create a table to keep track of your own results as you experiment with model type and hyperparameters!"
   ]
  },
  {
   "cell_type": "markdown",
   "metadata": {},
   "source": [
    "## Deploying and predicting with model\n",
    "\n",
    "Deploy the model:"
   ]
  },
  {
   "cell_type": "code",
   "execution_count": 27,
   "metadata": {},
   "outputs": [
    {
     "name": "stdout",
     "output_type": "stream",
     "text": [
      "Deleting and deploying mnist_cnn2 cnn from gs://qwiklabs-gcp-dece234407633bca/mnist/trained_cnn/export/exporter/1554333288/ ... this will take a few minutes\n"
     ]
    },
    {
     "name": "stderr",
     "output_type": "stream",
     "text": [
      "Created ml engine model [projects/qwiklabs-gcp-dece234407633bca/models/mnist_cnn2].\n",
      "Creating version (this might take a few minutes)......\n",
      ".............................................................................................................done.\n"
     ]
    }
   ],
   "source": [
    "%%bash\n",
    "MODEL_NAME=\"mnist_cnn2\"\n",
    "MODEL_VERSION=${MODEL_TYPE}\n",
    "MODEL_LOCATION=$(gsutil ls gs://${BUCKET}/mnist/trained_${MODEL_TYPE}/export/exporter | tail -1)\n",
    "\n",
    "echo \"Deleting and deploying $MODEL_NAME $MODEL_VERSION from $MODEL_LOCATION ... this will take a few minutes\"\n",
    "# gcloud ml-engine versions delete ${MODEL_VERSION} --model ${MODEL_NAME}\n",
    "# gcloud ml-engine models delete ${MODEL_NAME}\n",
    "gcloud ml-engine models create ${MODEL_NAME} --regions $REGION\n",
    "gcloud ml-engine versions create ${MODEL_VERSION} --model ${MODEL_NAME} --origin ${MODEL_LOCATION} --runtime-version=$TFVERSION"
   ]
  },
  {
   "cell_type": "markdown",
   "metadata": {},
   "source": [
    "To predict with the model, let's take one of the example images."
   ]
  },
  {
   "cell_type": "code",
   "execution_count": 28,
   "metadata": {},
   "outputs": [
    {
     "name": "stdout",
     "output_type": "stream",
     "text": [
      "Extracting mnist/data/train-images-idx3-ubyte.gz\n",
      "Extracting mnist/data/train-labels-idx1-ubyte.gz\n",
      "Extracting mnist/data/t10k-images-idx3-ubyte.gz\n",
      "Extracting mnist/data/t10k-labels-idx1-ubyte.gz\n"
     ]
    },
    {
     "name": "stderr",
     "output_type": "stream",
     "text": [
      "/usr/local/envs/py3env/lib/python3.5/site-packages/matplotlib/font_manager.py:1320: UserWarning: findfont: Font family ['sans-serif'] not found. Falling back to DejaVu Sans\n",
      "  (prop.get_family(), self.defaultFamily[fontext]))\n"
     ]
    },
    {
     "data": {
      "image/png": "[encoded data removed]",
      "text/plain": [
       "<matplotlib.figure.Figure at 0x7fc5ecfbc978>"
      ]
     },
     "metadata": {},
     "output_type": "display_data"
    }
   ],
   "source": [
    "import json, codecs\n",
    "import matplotlib.pyplot as plt\n",
    "from tensorflow.examples.tutorials.mnist import input_data\n",
    "\n",
    "HEIGHT=28\n",
    "WIDTH=28\n",
    "\n",
    "mnist = input_data.read_data_sets('mnist/data', one_hot=True, reshape=False)\n",
    "IMGNO=999 #CHANGE THIS to get different images\n",
    "jsondata = {'image': mnist.test.images[IMGNO].reshape(HEIGHT, WIDTH).tolist()}\n",
    "json.dump(jsondata, codecs.open('test.json', 'w', encoding='utf-8'))\n",
    "plt.imshow(mnist.test.images[IMGNO].reshape(HEIGHT, WIDTH));"
   ]
  },
  {
   "cell_type": "markdown",
   "metadata": {},
   "source": [
    "Send it to the prediction service"
   ]
  },
  {
   "cell_type": "code",
   "execution_count": 30,
   "metadata": {},
   "outputs": [
    {
     "name": "stdout",
     "output_type": "stream",
     "text": [
      "CLASSES  PROBABILITIES\n",
      "9        [4.320768135173741e-22, 4.668646668328384e-19, 1.5218463739871775e-19, 2.230510698017496e-13, 0.00032295286655426025, 7.201281841077035e-15, 3.709804880898028e-21, 6.348211627482669e-07, 2.1595455458600643e-12, 0.9996764659881592]\n"
     ]
    }
   ],
   "source": [
    "%%bash\n",
    "gcloud ml-engine predict \\\n",
    "   --model=mnist_cnn2 \\\n",
    "   --version=${MODEL_TYPE} \\\n",
    "   --json-instances=./test.json"
   ]
  },
  {
   "cell_type": "markdown",
   "metadata": {},
   "source": [
    "<pre>\n",
    "# Copyright 2017 Google Inc. All Rights Reserved.\n",
    "#\n",
    "# Licensed under the Apache License, Version 2.0 (the \"License\");\n",
    "# you may not use this file except in compliance with the License.\n",
    "# You may obtain a copy of the License at\n",
    "#\n",
    "#      http://www.apache.org/licenses/LICENSE-2.0\n",
    "#\n",
    "# Unless required by applicable law or agreed to in writing, software\n",
    "# distributed under the License is distributed on an \"AS IS\" BASIS,\n",
    "# WITHOUT WARRANTIES OR CONDITIONS OF ANY KIND, either express or implied.\n",
    "# See the License for the specific language governing permissions and\n",
    "# limitations under the License.\n",
    "</pre>"
   ]
  }
 ],
 "metadata": {
  "kernelspec": {
   "display_name": "Python 3",
   "language": "python",
   "name": "python3"
  },
  "language_info": {
   "codemirror_mode": {
    "name": "ipython",
    "version": 3
   },
   "file_extension": ".py",
   "mimetype": "text/x-python",
   "name": "python",
   "nbconvert_exporter": "python",
   "pygments_lexer": "ipython3",
   "version": "3.5.6"
  }
 },
 "nbformat": 4,
 "nbformat_minor": 2
}
